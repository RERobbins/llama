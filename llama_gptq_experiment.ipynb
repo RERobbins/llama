{
 "cells": [
  {
   "cell_type": "code",
   "execution_count": 1,
   "id": "45b7f4a6",
   "metadata": {},
   "outputs": [],
   "source": [
    "import torch"
   ]
  },
  {
   "cell_type": "code",
   "execution_count": 2,
   "id": "822514ca",
   "metadata": {},
   "outputs": [
    {
     "data": {
      "text/plain": [
       "True"
      ]
     },
     "execution_count": 2,
     "metadata": {},
     "output_type": "execute_result"
    }
   ],
   "source": [
    "torch.cuda.is_available()"
   ]
  },
  {
   "cell_type": "code",
   "execution_count": 3,
   "id": "fc1d5ed1",
   "metadata": {},
   "outputs": [],
   "source": [
    "from transformers import AutoTokenizer, pipeline, logging\n",
    "from auto_gptq import AutoGPTQForCausalLM, BaseQuantizeConfig\n",
    "from langchain.llms import HuggingFacePipeline\n",
    "from langchain import PromptTemplate, LLMChain"
   ]
  },
  {
   "cell_type": "code",
   "execution_count": 4,
   "id": "b1879c41",
   "metadata": {},
   "outputs": [],
   "source": [
    "model_name_or_path = \"TheBloke/Llama-2-13B-chat-GPTQ\"\n",
    "use_triton = False"
   ]
  },
  {
   "cell_type": "code",
   "execution_count": 5,
   "id": "057726a9",
   "metadata": {},
   "outputs": [],
   "source": [
    "tokenizer = AutoTokenizer.from_pretrained(model_name_or_path, use_fast=True)"
   ]
  },
  {
   "cell_type": "code",
   "execution_count": 6,
   "id": "ae3efcfe",
   "metadata": {},
   "outputs": [
    {
     "name": "stderr",
     "output_type": "stream",
     "text": [
      "Skipping module injection for FusedLlamaMLPForQuantizedModel as currently not supported with use_triton=False.\n"
     ]
    }
   ],
   "source": [
    "model = AutoGPTQForCausalLM.from_quantized(\n",
    "    model_name_or_path,\n",
    "    use_safetensors=True,\n",
    "    trust_remote_code=True,\n",
    "    device=\"cuda:0\",\n",
    "    use_triton=use_triton,\n",
    "    quantize_config=None,\n",
    ")"
   ]
  },
  {
   "cell_type": "code",
   "execution_count": 7,
   "id": "af75994a",
   "metadata": {},
   "outputs": [
    {
     "name": "stdout",
     "output_type": "stream",
     "text": [
      "*** Pipeline:\n",
      "SYSTEM: You are a helpful, respectful and honest assistant. Always answer as helpfully as possible, while being safe.  Your answers should not include any harmful, unethical, racist, sexist, toxic, dangerous, or illegal content. Please ensure that your responses are socially unbiased and positive in nature. If a question does not make any sense, or is not factually coherent, explain why instead of answering something not correct. If you don't know the answer to a question, please don't share false information.\n",
      "USER: Tell me about AI\n",
      "ASSISTANT:\n",
      "\n",
      "AI, or Artificial Intelligence, refers to the development of computer systems that can perform tasks that typically require human intelligence, such as learning, problem-solving, decision-making, and language understanding. AI systems use algorithms and machine learning techniques to analyze data and make predictions or decisions based on that data.\n",
      "\n",
      "There are many different types of AI, including:\n",
      "\n",
      "1. Narrow or weak AI, which is designed to perform a specific task, such as facial recognition or language translation.\n",
      "2. General or strong AI, which is designed to perform any intellectual task that a human can.\n",
      "3. Superintelligence, which is an AI system that is significantly more intelligent than the best human minds.\n",
      "4. Artificial general intelligence (AGI), which is a hypothetical AI system that possesses the ability to understand, learn, and apply knowledge across a wide range of tasks, similar to human intelligence.\n",
      "5. Cognitive computing, which is a type of AI that focuses on simulating human thought processes and replicating the human brain.\n",
      "6. Machine learning, which is a subset of AI that involves training algorithms to learn from data and make predictions or decisions based on that data.\n",
      "7. Deep learning, which is a type of machine learning that uses neural networks to analyze large amounts of data.\n",
      "8. Natural language processing (NLP), which is a field of AI that focuses on the interaction between computers and humans using natural language.\n",
      "9. Robotics, which is the study of robots and their use in various fields, such as manufacturing, healthcare, and transportation.\n",
      "\n",
      "The benefits of AI include increased efficiency, accuracy, and speed in various industries and applications, such as healthcare, finance, transportation, and education. However, there are also concerns about the potential negative impacts of AI, such as job displacement, privacy invasion, and bias in decision-making.\n",
      "\n",
      "Overall, AI has the potential to revolutionize many aspects of our lives, but it is important to carefully consider the potential risks and benefits of this technology as it continues to develop.\n"
     ]
    }
   ],
   "source": [
    "prompt = \"Tell me about AI\"\n",
    "template=f'''SYSTEM: You are a helpful, respectful and honest assistant. Always answer as helpfully as possible, while being safe.  Your answers should not include any harmful, unethical, racist, sexist, toxic, dangerous, or illegal content. Please ensure that your responses are socially unbiased and positive in nature. If a question does not make any sense, or is not factually coherent, explain why instead of answering something not correct. If you don't know the answer to a question, please don't share false information.\n",
    "USER: {prompt}\n",
    "ASSISTANT:\n",
    "'''\n",
    "\n",
    "# Prevent printing spurious transformers error when using pipeline with AutoGPTQ\n",
    "logging.set_verbosity(logging.CRITICAL)\n",
    "\n",
    "print(\"*** Pipeline:\")\n",
    "pipe = pipeline(\n",
    "    \"text-generation\",\n",
    "    model=model,\n",
    "    tokenizer=tokenizer,\n",
    "    max_new_tokens=512,\n",
    "    repetition_penalty=1.15\n",
    ")\n",
    "\n",
    "print(pipe(template)[0]['generated_text'])"
   ]
  },
  {
   "cell_type": "code",
   "execution_count": 8,
   "id": "645bbf68-f0fc-4951-917e-a4beeaac7de1",
   "metadata": {},
   "outputs": [],
   "source": [
    "prompt = \"Who won the World Series in the year 1994? \"\n",
    "\n",
    "template = '''SYSTEM: You are a helpful, respectful and honest assistant. Always answer as helpfully as possible, while being safe.  Your answers should not include any harmful, unethical, racist, sexist, toxic, dangerous, or illegal content. Please ensure that your responses are socially unbiased and positive in nature. If a question does not make any sense, or is not factually coherent, explain why instead of answering something not correct. If you don't know the answer to a question, please don't share false information.\n",
    "USER: {prompt}\n",
    "ASSISTANT:\n",
    "'''\n",
    "\n",
    "prompt_template = PromptTemplate(template=template, input_variables=[\"prompt\"])"
   ]
  },
  {
   "cell_type": "code",
   "execution_count": 9,
   "id": "5c949941-77dc-48dd-ad77-df18bcbf56e1",
   "metadata": {},
   "outputs": [
    {
     "name": "stdout",
     "output_type": "stream",
     "text": [
      "The World Series was not played in the year 1994. The MLB season did not take place due to a players strike. Therefore, there was no World Series champion for that year.\n"
     ]
    }
   ],
   "source": [
    "llm = HuggingFacePipeline(pipeline=pipe)\n",
    "llm_chain = LLMChain(prompt=prompt_template, llm=llm)\n",
    "print(llm_chain.run(prompt))"
   ]
  }
 ],
 "metadata": {
  "kernelspec": {
   "display_name": "Python 3 (ipykernel)",
   "language": "python",
   "name": "python3"
  },
  "language_info": {
   "codemirror_mode": {
    "name": "ipython",
    "version": 3
   },
   "file_extension": ".py",
   "mimetype": "text/x-python",
   "name": "python",
   "nbconvert_exporter": "python",
   "pygments_lexer": "ipython3",
   "version": "3.10.13"
  }
 },
 "nbformat": 4,
 "nbformat_minor": 5
}
